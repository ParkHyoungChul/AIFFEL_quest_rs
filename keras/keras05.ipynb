{
 "cells": [
  {
   "cell_type": "code",
   "execution_count": 1,
   "id": "f2c1870d",
   "metadata": {},
   "outputs": [
    {
     "name": "stdout",
     "output_type": "stream",
     "text": [
      "Downloading data from https://storage.googleapis.com/tensorflow/tf-keras-datasets/mnist.npz\n",
      "11493376/11490434 [==============================] - 0s 0us/step\n",
      "11501568/11490434 [==============================] - 0s 0us/step\n"
     ]
    }
   ],
   "source": [
    "from tensorflow.keras.datasets import mnist\n",
    "import numpy as np\n",
    "\n",
    "(train_images, train_labels), _ = mnist.load_data()\n",
    "train_images = train_images.reshape((60000, 28 * 28))\n",
    "train_images = train_images.astype(\"float32\") / 255\n",
    "\n",
    "train_images_with_noise_channels = np.concatenate(\n",
    "    [train_images, np.random.random((len(train_images), 784))], axis=1)\n",
    "\n",
    "train_images_with_zeros_channels = np.concatenate(\n",
    "    [train_images, np.zeros((len(train_images), 784))], axis=1)"
   ]
  },
  {
   "cell_type": "code",
   "execution_count": 2,
   "id": "c6d8a865",
   "metadata": {},
   "outputs": [
    {
     "data": {
      "text/plain": [
       "(60000, 1568)"
      ]
     },
     "execution_count": 2,
     "metadata": {},
     "output_type": "execute_result"
    }
   ],
   "source": [
    "train_images_with_noise_channels.shape"
   ]
  },
  {
   "cell_type": "code",
   "execution_count": 4,
   "id": "d40a8812",
   "metadata": {},
   "outputs": [
    {
     "data": {
      "text/plain": [
       "(60000, 784)"
      ]
     },
     "execution_count": 4,
     "metadata": {},
     "output_type": "execute_result"
    }
   ],
   "source": [
    "train_images.shape"
   ]
  },
  {
   "cell_type": "code",
   "execution_count": 3,
   "id": "01de5f66",
   "metadata": {},
   "outputs": [
    {
     "data": {
      "text/plain": [
       "(60000,)"
      ]
     },
     "execution_count": 3,
     "metadata": {},
     "output_type": "execute_result"
    }
   ],
   "source": [
    "train_labels.shape"
   ]
  },
  {
   "cell_type": "code",
   "execution_count": 5,
   "id": "5d7f6515",
   "metadata": {},
   "outputs": [
    {
     "data": {
      "text/plain": [
       "array([0.        , 0.        , 0.        , ..., 0.98709899, 0.9807272 ,\n",
       "       0.28339412])"
      ]
     },
     "execution_count": 5,
     "metadata": {},
     "output_type": "execute_result"
    }
   ],
   "source": [
    "train_images_with_noise_channels[0]"
   ]
  },
  {
   "cell_type": "code",
   "execution_count": 6,
   "id": "51ce3965",
   "metadata": {},
   "outputs": [
    {
     "name": "stdout",
     "output_type": "stream",
     "text": [
      "Epoch 1/10\n",
      "375/375 [==============================] - 10s 22ms/step - loss: 0.6057 - accuracy: 0.8145 - val_loss: 0.2525 - val_accuracy: 0.9247\n",
      "Epoch 2/10\n",
      "375/375 [==============================] - 8s 21ms/step - loss: 0.2479 - accuracy: 0.9232 - val_loss: 0.1927 - val_accuracy: 0.9444\n",
      "Epoch 3/10\n",
      "375/375 [==============================] - 8s 21ms/step - loss: 0.1623 - accuracy: 0.9495 - val_loss: 0.1830 - val_accuracy: 0.9448\n",
      "Epoch 4/10\n",
      "375/375 [==============================] - 8s 21ms/step - loss: 0.1150 - accuracy: 0.9639 - val_loss: 0.1539 - val_accuracy: 0.9560\n",
      "Epoch 5/10\n",
      "375/375 [==============================] - 8s 21ms/step - loss: 0.0857 - accuracy: 0.9725 - val_loss: 0.1212 - val_accuracy: 0.9667\n",
      "Epoch 6/10\n",
      "375/375 [==============================] - 8s 21ms/step - loss: 0.0620 - accuracy: 0.9808 - val_loss: 0.1270 - val_accuracy: 0.9624\n",
      "Epoch 7/10\n",
      "375/375 [==============================] - 8s 21ms/step - loss: 0.0476 - accuracy: 0.9839 - val_loss: 0.1741 - val_accuracy: 0.9523\n",
      "Epoch 8/10\n",
      "375/375 [==============================] - 8s 20ms/step - loss: 0.0345 - accuracy: 0.9891 - val_loss: 0.1923 - val_accuracy: 0.9547\n",
      "Epoch 9/10\n",
      "375/375 [==============================] - 8s 21ms/step - loss: 0.0277 - accuracy: 0.9910 - val_loss: 0.2861 - val_accuracy: 0.9341\n",
      "Epoch 10/10\n",
      "375/375 [==============================] - 8s 21ms/step - loss: 0.0205 - accuracy: 0.9935 - val_loss: 0.1391 - val_accuracy: 0.9670\n",
      "Epoch 1/10\n",
      "375/375 [==============================] - 8s 21ms/step - loss: 0.2920 - accuracy: 0.9146 - val_loss: 0.1506 - val_accuracy: 0.9589\n",
      "Epoch 2/10\n",
      "375/375 [==============================] - 7s 20ms/step - loss: 0.1202 - accuracy: 0.9645 - val_loss: 0.1104 - val_accuracy: 0.9653\n",
      "Epoch 3/10\n",
      "375/375 [==============================] - 8s 21ms/step - loss: 0.0785 - accuracy: 0.9764 - val_loss: 0.0850 - val_accuracy: 0.9737\n",
      "Epoch 4/10\n",
      "375/375 [==============================] - 7s 20ms/step - loss: 0.0575 - accuracy: 0.9827 - val_loss: 0.0861 - val_accuracy: 0.9751\n",
      "Epoch 5/10\n",
      "375/375 [==============================] - 7s 20ms/step - loss: 0.0425 - accuracy: 0.9868 - val_loss: 0.0778 - val_accuracy: 0.9780\n",
      "Epoch 6/10\n",
      "375/375 [==============================] - 7s 20ms/step - loss: 0.0322 - accuracy: 0.9905 - val_loss: 0.0856 - val_accuracy: 0.9766\n",
      "Epoch 7/10\n",
      "375/375 [==============================] - 8s 20ms/step - loss: 0.0243 - accuracy: 0.9927 - val_loss: 0.0857 - val_accuracy: 0.9781\n",
      "Epoch 8/10\n",
      "375/375 [==============================] - 7s 20ms/step - loss: 0.0185 - accuracy: 0.9949 - val_loss: 0.0818 - val_accuracy: 0.9788\n",
      "Epoch 9/10\n",
      "375/375 [==============================] - 7s 20ms/step - loss: 0.0147 - accuracy: 0.9958 - val_loss: 0.0844 - val_accuracy: 0.9797\n",
      "Epoch 10/10\n",
      "375/375 [==============================] - 7s 20ms/step - loss: 0.0108 - accuracy: 0.9969 - val_loss: 0.0918 - val_accuracy: 0.9771\n"
     ]
    }
   ],
   "source": [
    "from tensorflow import keras\n",
    "from tensorflow.keras import layers\n",
    "\n",
    "def get_model():\n",
    "    model = keras.Sequential([\n",
    "        layers.Dense(512, activation=\"relu\"),\n",
    "        layers.Dense(10, activation=\"softmax\")\n",
    "    ])\n",
    "    model.compile(optimizer=\"rmsprop\",\n",
    "                  loss=\"sparse_categorical_crossentropy\",\n",
    "                  metrics=[\"accuracy\"])\n",
    "    return model\n",
    "\n",
    "model = get_model()\n",
    "history_noise = model.fit(\n",
    "    train_images_with_noise_channels, train_labels,\n",
    "    epochs=10,\n",
    "    batch_size=128,\n",
    "    validation_split=0.2)\n",
    "\n",
    "model = get_model()\n",
    "history_zeros = model.fit(\n",
    "    train_images_with_zeros_channels, train_labels,\n",
    "    epochs=10,\n",
    "    batch_size=128,\n",
    "    validation_split=0.2)"
   ]
  },
  {
   "cell_type": "code",
   "execution_count": 7,
   "id": "2ba6f9e5",
   "metadata": {},
   "outputs": [
    {
     "name": "stderr",
     "output_type": "stream",
     "text": [
      "Matplotlib is building the font cache; this may take a moment.\n"
     ]
    },
    {
     "data": {
      "image/png": "[encoded data removed]",
      "text/plain": [
       "<Figure size 432x288 with 1 Axes>"
      ]
     },
     "metadata": {
      "needs_background": "light"
     },
     "output_type": "display_data"
    }
   ],
   "source": [
    "import matplotlib.pyplot as plt\n",
    "val_acc_noise = history_noise.history[\"val_accuracy\"]\n",
    "val_acc_zeros = history_zeros.history[\"val_accuracy\"]\n",
    "epochs = range(1, 11)\n",
    "plt.plot(epochs, val_acc_noise, \"b-\",\n",
    "         label=\"Validation accuracy with noise channels\")\n",
    "plt.plot(epochs, val_acc_zeros, \"b--\",\n",
    "         label=\"Validation accuracy with zeros channels\")\n",
    "plt.title(\"Effect of noise channels on validation accuracy\")\n",
    "plt.xlabel(\"Epochs\")\n",
    "plt.ylabel(\"Accuracy\")\n",
    "plt.legend()\n",
    "plt.show()"
   ]
  },
  {
   "cell_type": "code",
   "execution_count": 8,
   "id": "d92362b0",
   "metadata": {},
   "outputs": [
    {
     "name": "stdout",
     "output_type": "stream",
     "text": [
      "Epoch 1/20\n",
      "375/375 [==============================] - 2s 4ms/step - loss: 0.6735 - accuracy: 0.8309 - val_loss: 0.3603 - val_accuracy: 0.9036\n",
      "Epoch 2/20\n",
      "375/375 [==============================] - 1s 2ms/step - loss: 0.3510 - accuracy: 0.9031 - val_loss: 0.3082 - val_accuracy: 0.9145\n",
      "Epoch 3/20\n",
      "375/375 [==============================] - 1s 2ms/step - loss: 0.3147 - accuracy: 0.9126 - val_loss: 0.2901 - val_accuracy: 0.9190\n",
      "Epoch 4/20\n",
      "375/375 [==============================] - 1s 2ms/step - loss: 0.2988 - accuracy: 0.9170 - val_loss: 0.2818 - val_accuracy: 0.9216\n",
      "Epoch 5/20\n",
      "375/375 [==============================] - 1s 2ms/step - loss: 0.2894 - accuracy: 0.9186 - val_loss: 0.2776 - val_accuracy: 0.9227\n",
      "Epoch 6/20\n",
      "375/375 [==============================] - 1s 2ms/step - loss: 0.2831 - accuracy: 0.9210 - val_loss: 0.2733 - val_accuracy: 0.9247\n",
      "Epoch 7/20\n",
      "375/375 [==============================] - 1s 2ms/step - loss: 0.2779 - accuracy: 0.9230 - val_loss: 0.2693 - val_accuracy: 0.9264\n",
      "Epoch 8/20\n",
      "375/375 [==============================] - 1s 2ms/step - loss: 0.2741 - accuracy: 0.9233 - val_loss: 0.2693 - val_accuracy: 0.9265\n",
      "Epoch 9/20\n",
      "375/375 [==============================] - 1s 2ms/step - loss: 0.2710 - accuracy: 0.9244 - val_loss: 0.2671 - val_accuracy: 0.9265\n",
      "Epoch 10/20\n",
      "375/375 [==============================] - 1s 2ms/step - loss: 0.2685 - accuracy: 0.9247 - val_loss: 0.2650 - val_accuracy: 0.9275\n",
      "Epoch 11/20\n",
      "375/375 [==============================] - 1s 2ms/step - loss: 0.2663 - accuracy: 0.9262 - val_loss: 0.2659 - val_accuracy: 0.9279\n",
      "Epoch 12/20\n",
      "375/375 [==============================] - 1s 2ms/step - loss: 0.2647 - accuracy: 0.9268 - val_loss: 0.2636 - val_accuracy: 0.9288\n",
      "Epoch 13/20\n",
      "375/375 [==============================] - 1s 2ms/step - loss: 0.2628 - accuracy: 0.9273 - val_loss: 0.2647 - val_accuracy: 0.9280\n",
      "Epoch 14/20\n",
      "375/375 [==============================] - 1s 2ms/step - loss: 0.2614 - accuracy: 0.9284 - val_loss: 0.2627 - val_accuracy: 0.9301\n",
      "Epoch 15/20\n",
      "375/375 [==============================] - 1s 2ms/step - loss: 0.2603 - accuracy: 0.9289 - val_loss: 0.2607 - val_accuracy: 0.9303\n",
      "Epoch 16/20\n",
      "375/375 [==============================] - 1s 2ms/step - loss: 0.2593 - accuracy: 0.9289 - val_loss: 0.2616 - val_accuracy: 0.9298\n",
      "Epoch 17/20\n",
      "375/375 [==============================] - 1s 2ms/step - loss: 0.2583 - accuracy: 0.9289 - val_loss: 0.2606 - val_accuracy: 0.9293\n",
      "Epoch 18/20\n",
      "375/375 [==============================] - 1s 2ms/step - loss: 0.2569 - accuracy: 0.9298 - val_loss: 0.2628 - val_accuracy: 0.9283\n",
      "Epoch 19/20\n",
      "375/375 [==============================] - 1s 2ms/step - loss: 0.2564 - accuracy: 0.9304 - val_loss: 0.2611 - val_accuracy: 0.9307\n",
      "Epoch 20/20\n",
      "375/375 [==============================] - 1s 2ms/step - loss: 0.2552 - accuracy: 0.9304 - val_loss: 0.2632 - val_accuracy: 0.9301\n"
     ]
    }
   ],
   "source": [
    "model = keras.Sequential([layers.Dense(10, activation=\"softmax\")])\n",
    "model.compile(optimizer=\"rmsprop\",\n",
    "              loss=\"sparse_categorical_crossentropy\",\n",
    "              metrics=[\"accuracy\"])\n",
    "history_small_model = model.fit(\n",
    "    train_images, train_labels,\n",
    "    epochs=20,\n",
    "    batch_size=128,\n",
    "    validation_split=0.2)"
   ]
  }
 ],
 "metadata": {
  "kernelspec": {
   "display_name": "Python 3 (ipykernel)",
   "language": "python",
   "name": "python3"
  },
  "language_info": {
   "codemirror_mode": {
    "name": "ipython",
    "version": 3
   },
   "file_extension": ".py",
   "mimetype": "text/x-python",
   "name": "python",
   "nbconvert_exporter": "python",
   "pygments_lexer": "ipython3",
   "version": "3.9.7"
  }
 },
 "nbformat": 4,
 "nbformat_minor": 5
}
