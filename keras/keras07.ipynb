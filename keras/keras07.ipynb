{
 "cells": [
  {
   "cell_type": "code",
   "execution_count": 1,
   "id": "477f0a8c",
   "metadata": {},
   "outputs": [],
   "source": [
    "from tensorflow import keras\n",
    "from tensorflow.keras import layers\n",
    "\n",
    "model  = keras.Sequential([\n",
    "    layers.Dense(64,activation='relu'),\n",
    "    layers.Dense(10,activation='softmax')\n",
    "])"
   ]
  },
  {
   "cell_type": "markdown",
   "id": "9cbf378d",
   "metadata": {},
   "source": [
    "# 케라스 7장 실습용 노트북\n",
    "- Sequential - 간단한 초보자 모델\n",
    "- 함수형 API - 그래프 같은 구조를 다룸.. ?\n",
    "- Model 서브클래싱 - 완전히 밑바닥부터 만드는 방법\n",
    "\n",
    "### 7.2.1 Sequential 모델에 대한 내용\n",
    "\n",
    "층을 쌓는 방법에 대해서 두가지 방법을 알려줌\n"
   ]
  },
  {
   "cell_type": "code",
   "execution_count": 2,
   "id": "58af01df",
   "metadata": {},
   "outputs": [],
   "source": [
    "model = keras.Sequential()\n",
    "model.add(layers.Dense(64, activation='relu'))\n",
    "model.add(layers.Dense(10, activation='softmax'))"
   ]
  },
  {
   "cell_type": "code",
   "execution_count": 5,
   "id": "6c87dc18",
   "metadata": {},
   "outputs": [
    {
     "ename": "ValueError",
     "evalue": "Weights for model sequential_1 have not yet been created. Weights are created when the Model is first called on inputs or `build()` is called with an `input_shape`.",
     "output_type": "error",
     "traceback": [
      "\u001b[0;31m---------------------------------------------------------------------------\u001b[0m",
      "\u001b[0;31mValueError\u001b[0m                                Traceback (most recent call last)",
      "\u001b[0;32m/tmp/ipykernel_31/397371286.py\u001b[0m in \u001b[0;36m<module>\u001b[0;34m\u001b[0m\n\u001b[1;32m      1\u001b[0m \u001b[0;31m# 아직 bulid() 메소드가 호출되지 않았기 때문에 가중치가 없다\u001b[0m\u001b[0;34m\u001b[0m\u001b[0;34m\u001b[0m\u001b[0m\n\u001b[0;32m----> 2\u001b[0;31m \u001b[0mmodel\u001b[0m\u001b[0;34m.\u001b[0m\u001b[0mweights\u001b[0m\u001b[0;34m\u001b[0m\u001b[0;34m\u001b[0m\u001b[0m\n\u001b[0m",
      "\u001b[0;32m/opt/conda/lib/python3.9/site-packages/keras/engine/training.py\u001b[0m in \u001b[0;36mweights\u001b[0;34m(self)\u001b[0m\n\u001b[1;32m   2488\u001b[0m       \u001b[0mA\u001b[0m \u001b[0mlist\u001b[0m \u001b[0mof\u001b[0m \u001b[0mvariables\u001b[0m\u001b[0;34m.\u001b[0m\u001b[0;34m\u001b[0m\u001b[0;34m\u001b[0m\u001b[0m\n\u001b[1;32m   2489\u001b[0m     \"\"\"\n\u001b[0;32m-> 2490\u001b[0;31m     \u001b[0;32mreturn\u001b[0m \u001b[0mself\u001b[0m\u001b[0;34m.\u001b[0m\u001b[0m_dedup_weights\u001b[0m\u001b[0;34m(\u001b[0m\u001b[0mself\u001b[0m\u001b[0;34m.\u001b[0m\u001b[0m_undeduplicated_weights\u001b[0m\u001b[0;34m)\u001b[0m\u001b[0;34m\u001b[0m\u001b[0;34m\u001b[0m\u001b[0m\n\u001b[0m\u001b[1;32m   2491\u001b[0m \u001b[0;34m\u001b[0m\u001b[0m\n\u001b[1;32m   2492\u001b[0m   \u001b[0;34m@\u001b[0m\u001b[0mproperty\u001b[0m\u001b[0;34m\u001b[0m\u001b[0;34m\u001b[0m\u001b[0m\n",
      "\u001b[0;32m/opt/conda/lib/python3.9/site-packages/keras/engine/training.py\u001b[0m in \u001b[0;36m_undeduplicated_weights\u001b[0;34m(self)\u001b[0m\n\u001b[1;32m   2493\u001b[0m   \u001b[0;32mdef\u001b[0m \u001b[0m_undeduplicated_weights\u001b[0m\u001b[0;34m(\u001b[0m\u001b[0mself\u001b[0m\u001b[0;34m)\u001b[0m\u001b[0;34m:\u001b[0m\u001b[0;34m\u001b[0m\u001b[0;34m\u001b[0m\u001b[0m\n\u001b[1;32m   2494\u001b[0m     \u001b[0;34m\"\"\"Returns the undeduplicated list of all layer variables/weights.\"\"\"\u001b[0m\u001b[0;34m\u001b[0m\u001b[0;34m\u001b[0m\u001b[0m\n\u001b[0;32m-> 2495\u001b[0;31m     \u001b[0mself\u001b[0m\u001b[0;34m.\u001b[0m\u001b[0m_assert_weights_created\u001b[0m\u001b[0;34m(\u001b[0m\u001b[0;34m)\u001b[0m\u001b[0;34m\u001b[0m\u001b[0;34m\u001b[0m\u001b[0m\n\u001b[0m\u001b[1;32m   2496\u001b[0m     \u001b[0mweights\u001b[0m \u001b[0;34m=\u001b[0m \u001b[0;34m[\u001b[0m\u001b[0;34m]\u001b[0m\u001b[0;34m\u001b[0m\u001b[0;34m\u001b[0m\u001b[0m\n\u001b[1;32m   2497\u001b[0m     \u001b[0;32mfor\u001b[0m \u001b[0mlayer\u001b[0m \u001b[0;32min\u001b[0m \u001b[0mself\u001b[0m\u001b[0;34m.\u001b[0m\u001b[0m_self_tracked_trackables\u001b[0m\u001b[0;34m:\u001b[0m\u001b[0;34m\u001b[0m\u001b[0;34m\u001b[0m\u001b[0m\n",
      "\u001b[0;32m/opt/conda/lib/python3.9/site-packages/keras/engine/sequential.py\u001b[0m in \u001b[0;36m_assert_weights_created\u001b[0;34m(self)\u001b[0m\n\u001b[1;32m    465\u001b[0m     \u001b[0;31m# When the graph has not been initialized, use the Model's implementation to\u001b[0m\u001b[0;34m\u001b[0m\u001b[0;34m\u001b[0m\u001b[0m\n\u001b[1;32m    466\u001b[0m     \u001b[0;31m# to check if the weights has been created.\u001b[0m\u001b[0;34m\u001b[0m\u001b[0;34m\u001b[0m\u001b[0m\n\u001b[0;32m--> 467\u001b[0;31m     \u001b[0msuper\u001b[0m\u001b[0;34m(\u001b[0m\u001b[0mfunctional\u001b[0m\u001b[0;34m.\u001b[0m\u001b[0mFunctional\u001b[0m\u001b[0;34m,\u001b[0m \u001b[0mself\u001b[0m\u001b[0;34m)\u001b[0m\u001b[0;34m.\u001b[0m\u001b[0m_assert_weights_created\u001b[0m\u001b[0;34m(\u001b[0m\u001b[0;34m)\u001b[0m  \u001b[0;31m# pylint: disable=bad-super-call\u001b[0m\u001b[0;34m\u001b[0m\u001b[0;34m\u001b[0m\u001b[0m\n\u001b[0m\u001b[1;32m    468\u001b[0m \u001b[0;34m\u001b[0m\u001b[0m\n\u001b[1;32m    469\u001b[0m \u001b[0;34m\u001b[0m\u001b[0m\n",
      "\u001b[0;32m/opt/conda/lib/python3.9/site-packages/keras/engine/training.py\u001b[0m in \u001b[0;36m_assert_weights_created\u001b[0;34m(self)\u001b[0m\n\u001b[1;32m   2669\u001b[0m       \u001b[0;31m# been invoked yet, this will cover both sequential and subclass model.\u001b[0m\u001b[0;34m\u001b[0m\u001b[0;34m\u001b[0m\u001b[0m\n\u001b[1;32m   2670\u001b[0m       \u001b[0;31m# Also make sure to exclude Model class itself which has build() defined.\u001b[0m\u001b[0;34m\u001b[0m\u001b[0;34m\u001b[0m\u001b[0m\n\u001b[0;32m-> 2671\u001b[0;31m       raise ValueError('Weights for model %s have not yet been created. '\n\u001b[0m\u001b[1;32m   2672\u001b[0m                        \u001b[0;34m'Weights are created when the Model is first called on '\u001b[0m\u001b[0;34m\u001b[0m\u001b[0;34m\u001b[0m\u001b[0m\n\u001b[1;32m   2673\u001b[0m                        \u001b[0;34m'inputs or `build()` is called with an `input_shape`.'\u001b[0m \u001b[0;34m%\u001b[0m\u001b[0;34m\u001b[0m\u001b[0;34m\u001b[0m\u001b[0m\n",
      "\u001b[0;31mValueError\u001b[0m: Weights for model sequential_1 have not yet been created. Weights are created when the Model is first called on inputs or `build()` is called with an `input_shape`."
     ]
    }
   ],
   "source": [
    "# 아직 bulid() 메소드가 호출되지 않았기 때문에 가중치가 없다\n",
    "model.weights"
   ]
  },
  {
   "cell_type": "code",
   "execution_count": 8,
   "id": "26e8c005",
   "metadata": {},
   "outputs": [
    {
     "data": {
      "text/plain": [
       "[<tf.Variable 'dense_2/kernel:0' shape=(3, 64) dtype=float32, numpy=\n",
       " array([[-0.25293162, -0.24090266, -0.03632405,  0.09001556, -0.07500042,\n",
       "         -0.10551357, -0.09695859, -0.27905613, -0.10505709, -0.00779727,\n",
       "         -0.20843217, -0.18526231, -0.13725005, -0.27470738, -0.12816902,\n",
       "          0.1077767 , -0.02819571,  0.045726  , -0.25483432, -0.08668734,\n",
       "         -0.08039328, -0.10910484,  0.12964821,  0.27032143, -0.18586348,\n",
       "         -0.18559785, -0.14954585, -0.03767857,  0.29201806, -0.0647859 ,\n",
       "          0.03644726, -0.01693496,  0.27492428, -0.19568539, -0.12856899,\n",
       "         -0.24769066,  0.12400833,  0.09235013, -0.08771659,  0.27294695,\n",
       "         -0.25485787, -0.16853939, -0.15871415, -0.22847287,  0.01993418,\n",
       "          0.29314905, -0.26085627, -0.19450459,  0.09804508, -0.04395089,\n",
       "         -0.03268883, -0.16021651,  0.21685773,  0.12213787,  0.01277789,\n",
       "          0.24739766, -0.12294804, -0.03190365, -0.17845184,  0.03640667,\n",
       "         -0.07119018, -0.26789135,  0.04555905, -0.1811477 ],\n",
       "        [ 0.11238447, -0.20921263,  0.25473803, -0.2736642 ,  0.28290707,\n",
       "         -0.02529809,  0.2564382 , -0.17471544, -0.2731099 , -0.03386027,\n",
       "         -0.21504614,  0.04712713, -0.28761292,  0.1230343 ,  0.19419843,\n",
       "          0.00101671, -0.28386688, -0.03528008, -0.29787523,  0.1171743 ,\n",
       "         -0.26835558,  0.107393  ,  0.25499636, -0.22622736,  0.270119  ,\n",
       "          0.19855285, -0.22849314,  0.15131763,  0.20315993,  0.1077098 ,\n",
       "          0.05998313,  0.28842968,  0.00104818,  0.15725067, -0.10038605,\n",
       "          0.12304199,  0.03547835, -0.29040357,  0.02680993, -0.26039392,\n",
       "         -0.16125126, -0.07584767,  0.23429376,  0.18729106,  0.08129191,\n",
       "         -0.23288928,  0.1813606 , -0.0509427 , -0.2715506 ,  0.14316541,\n",
       "          0.16205868, -0.06050183,  0.00413635,  0.12722167,  0.13412517,\n",
       "         -0.21761173,  0.08928183, -0.09986493, -0.06958736, -0.2983945 ,\n",
       "          0.08885467, -0.20754305,  0.26706582, -0.01628056],\n",
       "        [ 0.14983353, -0.18831661,  0.00329489, -0.11887009,  0.22810787,\n",
       "          0.25310367, -0.14426571,  0.06499928,  0.11831358, -0.18173602,\n",
       "          0.17040864,  0.12996912, -0.28158385,  0.24934691,  0.08184057,\n",
       "         -0.04809523, -0.00667447, -0.2908169 ,  0.1223906 ,  0.21029681,\n",
       "          0.1420404 ,  0.20181185,  0.06034446,  0.11197814,  0.1094718 ,\n",
       "         -0.25770193,  0.08815047, -0.22387654, -0.2017908 , -0.20177552,\n",
       "          0.20703375, -0.2211156 ,  0.21004164,  0.11582977,  0.03685343,\n",
       "         -0.26418903,  0.26196438,  0.09545851,  0.08525047, -0.03242341,\n",
       "         -0.12505457, -0.2555597 ,  0.01328695,  0.29735994, -0.06764971,\n",
       "         -0.0701794 , -0.05086201,  0.20637888,  0.14436951,  0.2618392 ,\n",
       "         -0.19076426,  0.2753569 , -0.27889675, -0.2522435 ,  0.03114307,\n",
       "         -0.28155208, -0.28010044, -0.01335952,  0.1998263 ,  0.02989885,\n",
       "          0.24269664, -0.22221869, -0.06330065,  0.1631603 ]],\n",
       "       dtype=float32)>,\n",
       " <tf.Variable 'dense_2/bias:0' shape=(64,) dtype=float32, numpy=\n",
       " array([0., 0., 0., 0., 0., 0., 0., 0., 0., 0., 0., 0., 0., 0., 0., 0., 0.,\n",
       "        0., 0., 0., 0., 0., 0., 0., 0., 0., 0., 0., 0., 0., 0., 0., 0., 0.,\n",
       "        0., 0., 0., 0., 0., 0., 0., 0., 0., 0., 0., 0., 0., 0., 0., 0., 0.,\n",
       "        0., 0., 0., 0., 0., 0., 0., 0., 0., 0., 0., 0., 0.], dtype=float32)>,\n",
       " <tf.Variable 'dense_3/kernel:0' shape=(64, 10) dtype=float32, numpy=\n",
       " array([[-0.09964602,  0.07181361, -0.15029024, -0.1616176 ,  0.22290656,\n",
       "          0.27044204,  0.01825625,  0.15663141, -0.12074037,  0.06915858],\n",
       "        [ 0.01335385, -0.06032501, -0.19731116,  0.0547913 , -0.1632155 ,\n",
       "          0.18719658, -0.23797143, -0.22618335, -0.12916446, -0.06405048],\n",
       "        [-0.19387299, -0.26333335,  0.17199871,  0.1194804 , -0.25200462,\n",
       "         -0.00043294, -0.19699961,  0.11823159,  0.28446522, -0.22297968],\n",
       "        [ 0.07726094, -0.11379477,  0.1106469 ,  0.0717409 , -0.12249041,\n",
       "         -0.04082821, -0.12742981,  0.27199742, -0.1115327 , -0.28245687],\n",
       "        [ 0.2225208 , -0.09714369, -0.15778099, -0.12721862, -0.0046508 ,\n",
       "         -0.24392502, -0.25948966, -0.05125903, -0.07755491, -0.23520581],\n",
       "        [-0.19128308,  0.20733464,  0.2757474 , -0.03781746, -0.08252113,\n",
       "         -0.00958607, -0.2595575 , -0.08666351, -0.2242957 , -0.23668832],\n",
       "        [ 0.24923399, -0.24221909,  0.14814767, -0.07454158, -0.20450035,\n",
       "         -0.12347826,  0.2640579 , -0.26308942, -0.17425889,  0.15323892],\n",
       "        [-0.27409145,  0.18110937, -0.24875268,  0.23319712,  0.09855789,\n",
       "          0.1525043 , -0.20467693,  0.1286085 ,  0.19782475,  0.2356526 ],\n",
       "        [ 0.1359435 , -0.09113558, -0.24755695, -0.1989162 ,  0.08265927,\n",
       "         -0.03029266, -0.18771937,  0.2666898 ,  0.0410701 , -0.13331126],\n",
       "        [ 0.2520891 ,  0.2541074 , -0.03381929, -0.07950251, -0.24646333,\n",
       "          0.09280688,  0.18578243, -0.10408019,  0.26061842, -0.1739584 ],\n",
       "        [-0.2403937 , -0.06935106,  0.08637887,  0.12702975, -0.24191856,\n",
       "          0.04034993,  0.09149599, -0.1578909 ,  0.17474863,  0.20415643],\n",
       "        [-0.23043424, -0.05369332,  0.00109586, -0.28154004, -0.05878189,\n",
       "          0.25417438,  0.00872082,  0.03754354,  0.05797732, -0.22759715],\n",
       "        [-0.0501371 , -0.13194261, -0.1969305 , -0.05941631, -0.15094116,\n",
       "          0.19752088,  0.25441495,  0.18084744, -0.03794979, -0.07130769],\n",
       "        [ 0.2466735 , -0.13977347, -0.2225494 ,  0.22123256, -0.05588804,\n",
       "          0.24836281,  0.24081925, -0.0955635 , -0.22636572,  0.25771412],\n",
       "        [-0.28249788, -0.283792  , -0.2586016 , -0.17111045,  0.10514286,\n",
       "         -0.2627254 ,  0.13978657,  0.0896084 ,  0.09652576,  0.26097485],\n",
       "        [ 0.19520247,  0.03675207, -0.1067616 ,  0.13455743, -0.07482624,\n",
       "         -0.1243097 ,  0.192604  ,  0.19568801, -0.24085575,  0.21742609],\n",
       "        [ 0.18612778,  0.02101424, -0.23628703, -0.11167379,  0.01893711,\n",
       "          0.0439668 ,  0.23477045, -0.17882204, -0.17418393,  0.16516447],\n",
       "        [-0.24809055, -0.04016134, -0.02811122, -0.11484081,  0.05649415,\n",
       "         -0.12016895,  0.10157007,  0.00208229, -0.12835304, -0.12721549],\n",
       "        [ 0.08010721,  0.01532644, -0.23976606, -0.18091702,  0.03212422,\n",
       "          0.08785254, -0.1077874 , -0.01702216,  0.12540457, -0.23182005],\n",
       "        [ 0.06763169,  0.20205435, -0.25776842,  0.04672641, -0.2533459 ,\n",
       "          0.09724417, -0.00173762,  0.12775257, -0.08919762, -0.10816345],\n",
       "        [-0.12329829, -0.1641635 ,  0.1854538 , -0.24517031, -0.00284877,\n",
       "         -0.13303623, -0.18454088, -0.22065535, -0.00418752, -0.04246855],\n",
       "        [-0.2553722 , -0.05121273,  0.09799629,  0.15312943,  0.19607905,\n",
       "          0.19461977, -0.10174562, -0.03889228, -0.1502662 ,  0.09558102],\n",
       "        [ 0.16682333,  0.1504637 ,  0.04150581,  0.13672948, -0.02448922,\n",
       "         -0.00693101,  0.26346168, -0.14364173, -0.02551895, -0.01997581],\n",
       "        [-0.14829409,  0.24505386, -0.01623887,  0.13194269, -0.02560639,\n",
       "          0.26617798,  0.01502529, -0.19032437, -0.15548837, -0.2390351 ],\n",
       "        [-0.00220659,  0.13269293, -0.16043803,  0.15714276,  0.21340269,\n",
       "          0.24308196, -0.21620421, -0.09018418,  0.20432281, -0.21103425],\n",
       "        [ 0.18325207, -0.15443371,  0.16900828,  0.07722843, -0.0859798 ,\n",
       "          0.05696586, -0.06874983, -0.22287384, -0.09642556, -0.1411631 ],\n",
       "        [ 0.2837086 ,  0.04436544,  0.00149113, -0.12543225, -0.10069978,\n",
       "         -0.17112431, -0.21740401, -0.13896872, -0.10961756, -0.11457081],\n",
       "        [-0.03860348,  0.24327657,  0.12580559, -0.13914421,  0.08365366,\n",
       "         -0.25330463,  0.08883211,  0.24717912, -0.02097976,  0.06985831],\n",
       "        [ 0.20479661, -0.27866176, -0.16804072, -0.18445854,  0.13644013,\n",
       "          0.03353035,  0.20970845,  0.11465228,  0.05071205,  0.26635328],\n",
       "        [-0.03966221,  0.18109041, -0.08450362, -0.1036814 ,  0.17726222,\n",
       "          0.24009779,  0.11626145,  0.09318995, -0.27992103,  0.26386532],\n",
       "        [-0.2504168 ,  0.23047099,  0.21116745,  0.193732  , -0.20745385,\n",
       "          0.1855472 ,  0.26707408, -0.20321655,  0.17662549,  0.16508672],\n",
       "        [ 0.2101678 ,  0.12184486,  0.19246367,  0.18593153,  0.06434283,\n",
       "          0.12303209,  0.22600463,  0.09514198,  0.19001016, -0.11164215],\n",
       "        [ 0.05466604, -0.18057597, -0.08593303, -0.20749697,  0.27281204,\n",
       "         -0.21420047,  0.14186859,  0.26053318,  0.18841422,  0.15610304],\n",
       "        [ 0.0828785 , -0.14198197, -0.12243536,  0.24064007,  0.20533666,\n",
       "          0.06173256, -0.16207646,  0.1626426 , -0.03557809,  0.21011686],\n",
       "        [ 0.14885187, -0.0674704 ,  0.07062194,  0.23342851, -0.05754223,\n",
       "          0.16094923, -0.02210394, -0.2762508 , -0.2827511 , -0.23413765],\n",
       "        [-0.14805846, -0.00688022,  0.01969239, -0.10825896, -0.2839034 ,\n",
       "          0.09626642, -0.12866506, -0.20363611,  0.02554122, -0.07414173],\n",
       "        [ 0.15660113, -0.21859547, -0.22522151, -0.23644215, -0.18116564,\n",
       "          0.00108343,  0.00252277, -0.1346169 , -0.0081048 ,  0.24751863],\n",
       "        [ 0.23979726, -0.0087634 , -0.05130614,  0.24749306,  0.105984  ,\n",
       "          0.22243163, -0.02355528,  0.0954895 ,  0.26758322, -0.18892327],\n",
       "        [ 0.07752198, -0.1772591 ,  0.24875036,  0.00355473,  0.0575994 ,\n",
       "          0.03032199, -0.17181697, -0.25038058, -0.05344777,  0.01240036],\n",
       "        [-0.10714905,  0.14111388,  0.02005804,  0.11547959,  0.27788612,\n",
       "          0.1634658 , -0.20218363,  0.24170402,  0.06773761, -0.054782  ],\n",
       "        [ 0.06006613, -0.05950463,  0.03485024, -0.07404749, -0.14984863,\n",
       "         -0.22937015,  0.08045417, -0.17359093, -0.14084898, -0.16188115],\n",
       "        [-0.00239784,  0.28397176,  0.16214523, -0.21031898, -0.2069618 ,\n",
       "          0.02380246, -0.00971201, -0.02245647, -0.2691778 ,  0.17758471],\n",
       "        [-0.01975694, -0.07891981, -0.06057633, -0.1672839 , -0.1375252 ,\n",
       "         -0.02080792,  0.25980642, -0.08257069, -0.02899283,  0.18864587],\n",
       "        [ 0.05621099, -0.04806587,  0.13265267,  0.25850448,  0.17887345,\n",
       "         -0.2715664 ,  0.16188467, -0.23211789, -0.02593246, -0.04497236],\n",
       "        [ 0.23564473,  0.2308788 , -0.25536636, -0.26680878,  0.19207284,\n",
       "         -0.01405418, -0.2691285 ,  0.12722385,  0.11406654, -0.01580769],\n",
       "        [-0.17225438, -0.09274149, -0.22489679, -0.00659549,  0.03755337,\n",
       "          0.05621806,  0.18647695,  0.20248798, -0.2747633 , -0.18953814],\n",
       "        [ 0.26301888,  0.00905898, -0.27092424,  0.01920909,  0.01640239,\n",
       "         -0.07506005,  0.18724036, -0.00424176, -0.19643879, -0.1365664 ],\n",
       "        [-0.28354487, -0.27250075, -0.204297  , -0.00048766,  0.04747707,\n",
       "          0.10273647, -0.13833022,  0.27422073, -0.16700399, -0.1906625 ],\n",
       "        [-0.12859656,  0.27475122, -0.18310945,  0.05920613, -0.09439391,\n",
       "          0.08661985, -0.1456095 ,  0.17405006, -0.21491146, -0.01268819],\n",
       "        [ 0.06925318,  0.19290718, -0.09963705,  0.19079855, -0.20354676,\n",
       "         -0.12584291, -0.03326088, -0.15845567,  0.15230009,  0.19921422],\n",
       "        [ 0.00778526,  0.03123841,  0.28165504, -0.1374757 ,  0.03564829,\n",
       "          0.04070547, -0.26672727,  0.23193708, -0.11229545, -0.22606999],\n",
       "        [-0.091985  ,  0.23817983,  0.21248627,  0.15345421, -0.05481689,\n",
       "          0.20903274,  0.05831394, -0.02761999,  0.22414789,  0.00585949],\n",
       "        [-0.00165507,  0.11734694,  0.08165187,  0.0516426 ,  0.28088483,\n",
       "          0.13028443, -0.2625444 ,  0.15648723,  0.13376054, -0.14197153],\n",
       "        [-0.26392472, -0.16438577, -0.2368038 ,  0.19145992,  0.13046134,\n",
       "         -0.26175472, -0.21122748,  0.03792867,  0.07302582,  0.14796817],\n",
       "        [ 0.24345437,  0.21304113, -0.031138  ,  0.06952262,  0.16496947,\n",
       "         -0.195629  , -0.23775485, -0.17614959, -0.23371437, -0.16060585],\n",
       "        [-0.26164338, -0.26251197, -0.02218065,  0.10961479, -0.18947989,\n",
       "         -0.14944386,  0.26077577,  0.17627132, -0.27953976,  0.26828346],\n",
       "        [-0.09421244,  0.2630575 , -0.2438982 ,  0.08408257, -0.03663281,\n",
       "         -0.00690785,  0.19576451, -0.23129317, -0.27224576,  0.27643177],\n",
       "        [-0.05652003, -0.27306986, -0.1483343 ,  0.09822428, -0.04470903,\n",
       "          0.2602363 , -0.16025853, -0.25454688,  0.16316935,  0.10493076],\n",
       "        [-0.12965082,  0.19939297, -0.08207606, -0.15237607, -0.0178251 ,\n",
       "          0.19886813,  0.11076611, -0.10036768, -0.04261594, -0.28325906],\n",
       "        [-0.17109409, -0.02298227, -0.12006718, -0.21206224,  0.05721405,\n",
       "         -0.16187063,  0.10450524, -0.03088954, -0.1742705 , -0.2121864 ],\n",
       "        [-0.1039345 ,  0.1542069 ,  0.21002325, -0.27873778,  0.04405573,\n",
       "         -0.10495915, -0.22389387,  0.17449358,  0.0679408 ,  0.08578551],\n",
       "        [-0.14694148, -0.2225456 , -0.23457201, -0.02625135,  0.07057971,\n",
       "         -0.2675453 , -0.16714609, -0.11452302,  0.17246133,  0.01954684],\n",
       "        [-0.15868303,  0.25079212, -0.14227547,  0.06812316, -0.24806768,\n",
       "         -0.27732074,  0.12028742, -0.2744379 , -0.12226978,  0.14521438],\n",
       "        [ 0.18437856,  0.16524756, -0.04394168,  0.09718728, -0.01034853,\n",
       "          0.15778342, -0.16899897, -0.09127067, -0.06830394, -0.11562058]],\n",
       "       dtype=float32)>,\n",
       " <tf.Variable 'dense_3/bias:0' shape=(10,) dtype=float32, numpy=array([0., 0., 0., 0., 0., 0., 0., 0., 0., 0.], dtype=float32)>]"
      ]
     },
     "execution_count": 8,
     "metadata": {},
     "output_type": "execute_result"
    }
   ],
   "source": [
    "model.build(input_shape=(None, 3))\n",
    "model.weights"
   ]
  },
  {
   "cell_type": "code",
   "execution_count": 9,
   "id": "7b3ee60b",
   "metadata": {},
   "outputs": [
    {
     "name": "stdout",
     "output_type": "stream",
     "text": [
      "Model: \"sequential_1\"\n",
      "_________________________________________________________________\n",
      "Layer (type)                 Output Shape              Param #   \n",
      "=================================================================\n",
      "dense_2 (Dense)              (None, 64)                256       \n",
      "_________________________________________________________________\n",
      "dense_3 (Dense)              (None, 10)                650       \n",
      "=================================================================\n",
      "Total params: 906\n",
      "Trainable params: 906\n",
      "Non-trainable params: 0\n",
      "_________________________________________________________________\n"
     ]
    }
   ],
   "source": [
    "model.summary()"
   ]
  },
  {
   "cell_type": "code",
   "execution_count": 10,
   "id": "79a8bcc9",
   "metadata": {},
   "outputs": [
    {
     "name": "stdout",
     "output_type": "stream",
     "text": [
      "Model: \"my_example_model\"\n",
      "_________________________________________________________________\n",
      "Layer (type)                 Output Shape              Param #   \n",
      "=================================================================\n",
      "my_first_layer (Dense)       (None, 64)                256       \n",
      "_________________________________________________________________\n",
      "my_last_layer (Dense)        (None, 10)                650       \n",
      "=================================================================\n",
      "Total params: 906\n",
      "Trainable params: 906\n",
      "Non-trainable params: 0\n",
      "_________________________________________________________________\n"
     ]
    }
   ],
   "source": [
    "model = keras.Sequential(name='my_example_model')\n",
    "model.add(layers.Dense(64,activation='relu',name='my_first_layer'))\n",
    "model.add(layers.Dense(10,activation='softmax',name='my_last_layer'))\n",
    "model.build((None, 3))\n",
    "model.summary()"
   ]
  },
  {
   "cell_type": "code",
   "execution_count": 11,
   "id": "49719555",
   "metadata": {},
   "outputs": [
    {
     "ename": "ValueError",
     "evalue": "This model has not yet been built. Build the model first by calling `build()` or calling `fit()` with some data, or specify an `input_shape` argument in the first layer(s) for automatic build.",
     "output_type": "error",
     "traceback": [
      "\u001b[0;31m---------------------------------------------------------------------------\u001b[0m",
      "\u001b[0;31mValueError\u001b[0m                                Traceback (most recent call last)",
      "\u001b[0;32m/tmp/ipykernel_31/1480636662.py\u001b[0m in \u001b[0;36m<module>\u001b[0;34m\u001b[0m\n\u001b[1;32m      3\u001b[0m \u001b[0mmodel1\u001b[0m\u001b[0;34m.\u001b[0m\u001b[0madd\u001b[0m\u001b[0;34m(\u001b[0m\u001b[0mlayers\u001b[0m\u001b[0;34m.\u001b[0m\u001b[0mDense\u001b[0m\u001b[0;34m(\u001b[0m\u001b[0;36m10\u001b[0m\u001b[0;34m,\u001b[0m\u001b[0mactivation\u001b[0m\u001b[0;34m=\u001b[0m\u001b[0;34m'softmax'\u001b[0m\u001b[0;34m,\u001b[0m\u001b[0mname\u001b[0m\u001b[0;34m=\u001b[0m\u001b[0;34m'my_last_layer'\u001b[0m\u001b[0;34m)\u001b[0m\u001b[0;34m)\u001b[0m\u001b[0;34m\u001b[0m\u001b[0;34m\u001b[0m\u001b[0m\n\u001b[1;32m      4\u001b[0m \u001b[0;31m# model.build((None, 3))\u001b[0m\u001b[0;34m\u001b[0m\u001b[0;34m\u001b[0m\u001b[0m\n\u001b[0;32m----> 5\u001b[0;31m \u001b[0mmodel1\u001b[0m\u001b[0;34m.\u001b[0m\u001b[0msummary\u001b[0m\u001b[0;34m(\u001b[0m\u001b[0;34m)\u001b[0m\u001b[0;34m\u001b[0m\u001b[0;34m\u001b[0m\u001b[0m\n\u001b[0m",
      "\u001b[0;32m/opt/conda/lib/python3.9/site-packages/keras/engine/training.py\u001b[0m in \u001b[0;36msummary\u001b[0;34m(self, line_length, positions, print_fn)\u001b[0m\n\u001b[1;32m   2519\u001b[0m     \"\"\"\n\u001b[1;32m   2520\u001b[0m     \u001b[0;32mif\u001b[0m \u001b[0;32mnot\u001b[0m \u001b[0mself\u001b[0m\u001b[0;34m.\u001b[0m\u001b[0mbuilt\u001b[0m\u001b[0;34m:\u001b[0m\u001b[0;34m\u001b[0m\u001b[0;34m\u001b[0m\u001b[0m\n\u001b[0;32m-> 2521\u001b[0;31m       raise ValueError('This model has not yet been built. '\n\u001b[0m\u001b[1;32m   2522\u001b[0m                        \u001b[0;34m'Build the model first by calling `build()` or calling '\u001b[0m\u001b[0;34m\u001b[0m\u001b[0;34m\u001b[0m\u001b[0m\n\u001b[1;32m   2523\u001b[0m                        \u001b[0;34m'`fit()` with some data, or specify '\u001b[0m\u001b[0;34m\u001b[0m\u001b[0;34m\u001b[0m\u001b[0m\n",
      "\u001b[0;31mValueError\u001b[0m: This model has not yet been built. Build the model first by calling `build()` or calling `fit()` with some data, or specify an `input_shape` argument in the first layer(s) for automatic build."
     ]
    }
   ],
   "source": [
    "# 빌드를 안하고 써머리를 진행하면 오류가 난다 - build로 초기값을 넣거나 fit으로 훈련데이터를 넣어줘야한다\n",
    "model1 = keras.Sequential(name='my_example_model')\n",
    "model1.add(layers.Dense(64,activation='relu',name='my_first_layer'))\n",
    "model1.add(layers.Dense(10,activation='softmax',name='my_last_layer'))\n",
    "# model.build((None, 3))\n",
    "model1.summary()"
   ]
  },
  {
   "cell_type": "code",
   "execution_count": 12,
   "id": "831781c7",
   "metadata": {},
   "outputs": [],
   "source": [
    "model = keras.Sequential()\n",
    "# input을 정의해주면 build를 따로 정리할 필요가없음\n",
    "model.add(keras.Input(shape=(3,))) #배치 크기가 아니라 각 샘플의 크기여야함\n",
    "\n",
    "model.add(layers.Dense(64, activation='relu')) "
   ]
  },
  {
   "cell_type": "code",
   "execution_count": 14,
   "id": "dadcde74",
   "metadata": {},
   "outputs": [
    {
     "name": "stdout",
     "output_type": "stream",
     "text": [
      "Model: \"sequential_2\"\n",
      "_________________________________________________________________\n",
      "Layer (type)                 Output Shape              Param #   \n",
      "=================================================================\n",
      "dense_4 (Dense)              (None, 64)                256       \n",
      "=================================================================\n",
      "Total params: 256\n",
      "Trainable params: 256\n",
      "Non-trainable params: 0\n",
      "_________________________________________________________________\n"
     ]
    }
   ],
   "source": [
    "model.summary()"
   ]
  },
  {
   "cell_type": "code",
   "execution_count": 16,
   "id": "091ad571",
   "metadata": {},
   "outputs": [
    {
     "name": "stdout",
     "output_type": "stream",
     "text": [
      "Model: \"sequential_2\"\n",
      "_________________________________________________________________\n",
      "Layer (type)                 Output Shape              Param #   \n",
      "=================================================================\n",
      "dense_4 (Dense)              (None, 64)                256       \n",
      "_________________________________________________________________\n",
      "dense_5 (Dense)              (None, 10)                650       \n",
      "_________________________________________________________________\n",
      "dense_6 (Dense)              (None, 10)                110       \n",
      "=================================================================\n",
      "Total params: 1,016\n",
      "Trainable params: 1,016\n",
      "Non-trainable params: 0\n",
      "_________________________________________________________________\n"
     ]
    }
   ],
   "source": [
    "model.add(layers.Dense(10, activation='softmax')) \n",
    "model.summary()"
   ]
  },
  {
   "cell_type": "markdown",
   "id": "90f919f5",
   "metadata": {},
   "source": [
    "## 7.2.1 Functional API model"
   ]
  },
  {
   "cell_type": "code",
   "execution_count": 17,
   "id": "130814ef",
   "metadata": {},
   "outputs": [],
   "source": [
    "inputs = keras.Input(shape=(3,), name = 'my_inputs')\n",
    "features = layers.Dense(64, activation = 'relu')(inputs) # 신기한 방법으로 인풋을 넣는다\n",
    "outputs = layers.Dense(10, activation = 'softmax')(features)\n",
    "model = keras.Model(inputs=inputs, outputs=outputs)"
   ]
  },
  {
   "cell_type": "code",
   "execution_count": 18,
   "id": "f64c42c7",
   "metadata": {},
   "outputs": [
    {
     "data": {
      "text/plain": [
       "TensorShape([None, 3])"
      ]
     },
     "execution_count": 18,
     "metadata": {},
     "output_type": "execute_result"
    }
   ],
   "source": [
    "inputs.shape"
   ]
  },
  {
   "cell_type": "code",
   "execution_count": 20,
   "id": "e3ae2dce",
   "metadata": {},
   "outputs": [
    {
     "data": {
      "text/plain": [
       "tf.float32"
      ]
     },
     "execution_count": 20,
     "metadata": {},
     "output_type": "execute_result"
    }
   ],
   "source": [
    "inputs.dtype"
   ]
  },
  {
   "cell_type": "code",
   "execution_count": 21,
   "id": "883bf6a9",
   "metadata": {},
   "outputs": [],
   "source": [
    "# inputs 같은 값을 심볼릭 텐서라고 부른다"
   ]
  },
  {
   "cell_type": "code",
   "execution_count": 22,
   "id": "da845157",
   "metadata": {},
   "outputs": [],
   "source": [
    "features = layers.Dense(64, activation = 'relu')(inputs)"
   ]
  },
  {
   "cell_type": "code",
   "execution_count": 23,
   "id": "6d951a88",
   "metadata": {},
   "outputs": [
    {
     "data": {
      "text/plain": [
       "TensorShape([None, 64])"
      ]
     },
     "execution_count": 23,
     "metadata": {},
     "output_type": "execute_result"
    }
   ],
   "source": [
    "features.shape"
   ]
  },
  {
   "cell_type": "code",
   "execution_count": 24,
   "id": "b8ee89a8",
   "metadata": {},
   "outputs": [
    {
     "name": "stdout",
     "output_type": "stream",
     "text": [
      "Model: \"model\"\n",
      "_________________________________________________________________\n",
      "Layer (type)                 Output Shape              Param #   \n",
      "=================================================================\n",
      "my_inputs (InputLayer)       [(None, 3)]               0         \n",
      "_________________________________________________________________\n",
      "dense_7 (Dense)              (None, 64)                256       \n",
      "_________________________________________________________________\n",
      "dense_8 (Dense)              (None, 10)                650       \n",
      "=================================================================\n",
      "Total params: 906\n",
      "Trainable params: 906\n",
      "Non-trainable params: 0\n",
      "_________________________________________________________________\n"
     ]
    }
   ],
   "source": [
    "model.summary()"
   ]
  },
  {
   "cell_type": "markdown",
   "id": "2e998abf",
   "metadata": {},
   "source": [
    "- 고객의 이슈 티켓에 우선순위를 지정하고 적절한 부서로 전달하는 예제를 생각해보자  \n",
    "\n",
    "#### input\n",
    "- 이슈티켓 제목(텍스트 입력)\n",
    "- 이슈티켓 텍스트 본문(텍스트 입력)\n",
    "- 사용자가 추가한 태그(범주형 원핫)\n",
    "\n",
    "#### output\n",
    "- 이슈티켓 우선순위 점수 0 1 \n",
    "- 이슈티켓을 처리해야 할 부서 (소프트 맥스 결과값)"
   ]
  },
  {
   "cell_type": "code",
   "execution_count": 27,
   "id": "8bbfb1b1",
   "metadata": {},
   "outputs": [],
   "source": [
    "vocabulary_size = 10000\n",
    "num_tags = 100\n",
    "num_departments = 4\n",
    "\n",
    "# 입력 정의\n",
    "title = keras.Input(shape=(vocabulary_size,), name='title')\n",
    "text_body = keras.Input(shape=(vocabulary_size,), name='text_body')\n",
    "tags = keras.Input(shape=(num_tags,), name='tags')\n",
    "\n",
    "# 특성정의\n",
    "features = layers.Concatenate()([title, text_body, tags])\n",
    "features = layers.Dense(64, activation='relu')(features)\n",
    "\n",
    "# output 정의\n",
    "priority = layers.Dense(1, activation='sigmoid', name = 'priority')(features)\n",
    "department = layers.Dense(num_departments, activation='softmax', name = 'department')(features)\n",
    "\n",
    "# 모델 다시 정의?\n",
    "model = keras.Model(inputs = [title, text_body, tags],\n",
    "                   outputs = [priority, department])"
   ]
  },
  {
   "cell_type": "code",
   "execution_count": 29,
   "id": "2951d126",
   "metadata": {},
   "outputs": [
    {
     "name": "stdout",
     "output_type": "stream",
     "text": [
      "40/40 [==============================] - 3s 25ms/step - loss: 30.9527 - priority_loss: 0.3206 - department_loss: 30.6321 - priority_mean_absolute_error: 0.4854 - department_accuracy: 0.2641\n",
      "40/40 [==============================] - 0s 7ms/step - loss: 28.5622 - priority_loss: 0.3268 - department_loss: 28.2354 - priority_mean_absolute_error: 0.4914 - department_accuracy: 0.1250\n"
     ]
    }
   ],
   "source": [
    "import numpy as np\n",
    "\n",
    "num_samples = 1280\n",
    "\n",
    "# 인풋 데이터 (더미)\n",
    "title_data = np.random.randint(0,2,size=(num_samples, vocabulary_size))\n",
    "text_body_data = np.random.randint(0,2,size=(num_samples, vocabulary_size))\n",
    "tags_data = np.random.randint(0,2,size=(num_samples, num_tags))\n",
    "\n",
    "# 타겟 데이터 (더미)\n",
    "priority_data = np.random.random(size=(num_samples,1))\n",
    "department_data = np.random.randint(0, 2, size=(num_samples, num_departments))\n",
    "\n",
    "model.compile(optimizer = 'rmsprop',\n",
    "             loss = ['mean_squared_error', \"categorical_crossentropy\"],\n",
    "             metrics = [['mean_absolute_error'],['accuracy']])\n",
    "\n",
    "model.fit([title_data, text_body_data, tags_data], [priority_data, department_data], epochs= 1)\n",
    "\n",
    "model.evaluate([title_data, text_body_data, tags_data], [priority_data, department_data])\n",
    "\n",
    "priority_preds, department_preds = model.predict(\n",
    "    [title_data, text_body_data, tags_data])"
   ]
  },
  {
   "cell_type": "code",
   "execution_count": 33,
   "id": "f000ffd7",
   "metadata": {},
   "outputs": [
    {
     "name": "stdout",
     "output_type": "stream",
     "text": [
      "40/40 [==============================] - 2s 24ms/step - loss: 37.0840 - priority_loss: 0.3268 - department_loss: 36.7572 - priority_mean_absolute_error: 0.4914 - department_accuracy: 0.2523\n",
      "40/40 [==============================] - 0s 6ms/step - loss: 32.6583 - priority_loss: 0.3268 - department_loss: 32.3315 - priority_mean_absolute_error: 0.4914 - department_accuracy: 0.0680\n"
     ]
    }
   ],
   "source": [
    "## 입력과 타깃 배열을 딕셔너리로 전달해서 모델 훈련하기\n",
    "\n",
    "model.compile(optimizer = 'rmsprop',\n",
    "             loss = {'priority':'mean_squared_error', 'department':'categorical_crossentropy'},\n",
    "             metrics = {'priority':['mean_absolute_error'], 'department': ['accuracy']})\n",
    "\n",
    "model.fit({'title':title_data, 'text_body' : text_body_data, 'tags':tags_data},\n",
    "          {'priority': priority_data, 'department':department_data},\n",
    "         epochs = 1)\n",
    "\n",
    "model.evaluate({'title':title_data, 'text_body' : text_body_data, 'tags':tags_data},\n",
    "          {'priority': priority_data, 'department':department_data})\n",
    "\n",
    "priority_preds, department_preds = model.predict(\n",
    "    {'title':title_data, 'text_body': text_body_data, \"tags\": tags_data})"
   ]
  },
  {
   "cell_type": "code",
   "execution_count": 49,
   "id": "cfd87473",
   "metadata": {},
   "outputs": [
    {
     "data": {
      "text/plain": [
       "(1280, 1)"
      ]
     },
     "execution_count": 49,
     "metadata": {},
     "output_type": "execute_result"
    }
   ],
   "source": [
    "priority_data.shape"
   ]
  },
  {
   "cell_type": "code",
   "execution_count": 35,
   "id": "65b8e725",
   "metadata": {},
   "outputs": [
    {
     "data": {
      "image/png": "[encoded data removed]",
      "text/plain": [
       "<IPython.core.display.Image object>"
      ]
     },
     "execution_count": 35,
     "metadata": {},
     "output_type": "execute_result"
    }
   ],
   "source": [
    "keras.utils.plot_model(model, 'ticket_classifier.png')"
   ]
  },
  {
   "cell_type": "code",
   "execution_count": 37,
   "id": "efbdfcc5",
   "metadata": {},
   "outputs": [
    {
     "data": {
      "image/png": "[encoded data removed]",
      "text/plain": [
       "<IPython.core.display.Image object>"
      ]
     },
     "execution_count": 37,
     "metadata": {},
     "output_type": "execute_result"
    }
   ],
   "source": [
    "keras.utils.plot_model(\n",
    "    model, 'ticket_classifier_with_shape_info.png', show_shapes=True)"
   ]
  },
  {
   "cell_type": "code",
   "execution_count": 38,
   "id": "3c191b83",
   "metadata": {},
   "outputs": [
    {
     "data": {
      "text/plain": [
       "[<keras.engine.input_layer.InputLayer at 0x7c7a9405c5b0>,\n",
       " <keras.engine.input_layer.InputLayer at 0x7c7a9405c610>,\n",
       " <keras.engine.input_layer.InputLayer at 0x7c7a9405c730>,\n",
       " <keras.layers.merge.Concatenate at 0x7c7a94044e80>,\n",
       " <keras.layers.core.Dense at 0x7c7a94044a00>,\n",
       " <keras.layers.core.Dense at 0x7c7a94044340>,\n",
       " <keras.layers.core.Dense at 0x7c7a940a8a60>]"
      ]
     },
     "execution_count": 38,
     "metadata": {},
     "output_type": "execute_result"
    }
   ],
   "source": [
    "model.layers"
   ]
  },
  {
   "cell_type": "code",
   "execution_count": 39,
   "id": "c0b7abb9",
   "metadata": {},
   "outputs": [
    {
     "data": {
      "text/plain": [
       "[<KerasTensor: shape=(None, 10000) dtype=float32 (created by layer 'title')>,\n",
       " <KerasTensor: shape=(None, 10000) dtype=float32 (created by layer 'text_body')>,\n",
       " <KerasTensor: shape=(None, 100) dtype=float32 (created by layer 'tags')>]"
      ]
     },
     "execution_count": 39,
     "metadata": {},
     "output_type": "execute_result"
    }
   ],
   "source": [
    "model.layers[3].input"
   ]
  },
  {
   "cell_type": "code",
   "execution_count": 40,
   "id": "4c80c03f",
   "metadata": {},
   "outputs": [
    {
     "data": {
      "text/plain": [
       "<KerasTensor: shape=(None, 20100) dtype=float32 (created by layer 'concatenate_1')>"
      ]
     },
     "execution_count": 40,
     "metadata": {},
     "output_type": "execute_result"
    }
   ],
   "source": [
    "model.layers[3].output"
   ]
  },
  {
   "cell_type": "code",
   "execution_count": 45,
   "id": "2c22767a",
   "metadata": {},
   "outputs": [],
   "source": [
    "features = model.layers[4].output\n",
    "difficulty = layers.Dense(3,activation='softmax', name = 'difficulty')(features)\n",
    "\n",
    "new_model = keras.Model(\n",
    "    inputs = [title, text_body, tags],\n",
    "    outputs = [priority, department, difficulty])"
   ]
  },
  {
   "cell_type": "code",
   "execution_count": 46,
   "id": "dca0c70a",
   "metadata": {},
   "outputs": [
    {
     "data": {
      "image/png": "[encoded data removed]",
      "text/plain": [
       "<IPython.core.display.Image object>"
      ]
     },
     "execution_count": 46,
     "metadata": {},
     "output_type": "execute_result"
    }
   ],
   "source": [
    "keras.utils.plot_model(\n",
    "    new_model, \"update_ticket.png\", show_shapes=True)"
   ]
  },
  {
   "cell_type": "markdown",
   "id": "1a128333",
   "metadata": {},
   "source": [
    "## 7.2.3 Model 서브 클래싱"
   ]
  },
  {
   "cell_type": "code",
   "execution_count": 50,
   "id": "1e5e4d24",
   "metadata": {},
   "outputs": [],
   "source": [
    "class CustomerTicketModel(keras.Model):\n",
    "    def __init__(self, num_departments):\n",
    "        super().__init__() # 부모 클래스 상속\n",
    "        self.concat_layer = layers.Concatenate()\n",
    "        self.mixing_layer = layers.Dense(64, activation='relu')\n",
    "        self.priority_scorer = layers.Dense(1, activation='sigmoid')\n",
    "        self.department_classifier = layers.Dense(\n",
    "            num_departments, activation='softmax')\n",
    "    def call(self, inputs):\n",
    "        title = inputs['title']\n",
    "        text_body = inputs['text_body']\n",
    "        tags = inputs['tags']\n",
    "        \n",
    "        features = self.concat_layer([title, text_body, tags])\n",
    "        features = self.mixing_layer(features)\n",
    "        \n",
    "        priority = self.priority_scorer(features)\n",
    "        department = self.department_classifier(features)\n",
    "        \n",
    "        return priority, department"
   ]
  },
  {
   "cell_type": "code",
   "execution_count": 53,
   "id": "970d09a1",
   "metadata": {},
   "outputs": [],
   "source": [
    "model = CustomerTicketModel(num_departments=4)\n",
    "\n",
    "priority, department = model(\n",
    "    {'title' : title_data, 'text_body':text_body_data,'tags' : tags_data})"
   ]
  },
  {
   "cell_type": "code",
   "execution_count": 55,
   "id": "e6ff4a71",
   "metadata": {},
   "outputs": [
    {
     "data": {
      "text/plain": [
       "<tf.Tensor: shape=(1280, 4), dtype=float32, numpy=\n",
       "array([[0.18071282, 0.21913539, 0.521969  , 0.07818279],\n",
       "       [0.05511457, 0.49047577, 0.3661366 , 0.08827303],\n",
       "       [0.03300843, 0.31973135, 0.5805571 , 0.06670319],\n",
       "       ...,\n",
       "       [0.20100752, 0.46066985, 0.17267555, 0.16564709],\n",
       "       [0.10184661, 0.45168686, 0.3972787 , 0.04918788],\n",
       "       [0.15346375, 0.30885294, 0.41024458, 0.1274387 ]], dtype=float32)>"
      ]
     },
     "execution_count": 55,
     "metadata": {},
     "output_type": "execute_result"
    }
   ],
   "source": [
    "department"
   ]
  },
  {
   "cell_type": "code",
   "execution_count": 58,
   "id": "c8e5bc97",
   "metadata": {},
   "outputs": [
    {
     "name": "stdout",
     "output_type": "stream",
     "text": [
      "40/40 [==============================] - 1s 22ms/step - loss: 25.0239 - output_1_loss: 0.3268 - output_2_loss: 24.6971 - output_1_mean_absolute_error: 0.4914 - output_2_accuracy: 0.2875\n",
      "40/40 [==============================] - 1s 8ms/step - loss: 23.6175 - output_1_loss: 0.3268 - output_2_loss: 23.2906 - output_1_mean_absolute_error: 0.4914 - output_2_accuracy: 0.1258\n"
     ]
    }
   ],
   "source": [
    "model.compile(optimizer='rmsprop',\n",
    "             loss = ['mean_squared_error', 'categorical_crossentropy'],\n",
    "             metrics = [['mean_absolute_error'],['accuracy']])\n",
    "\n",
    "model.fit({'title' : title_data, 'text_body':text_body_data,'tags' : tags_data},\n",
    "         [priority_data, department_data],\n",
    "         epochs = 1)\n",
    "\n",
    "model.evaluate({'title' : title_data, 'text_body':text_body_data,'tags' : tags_data},\n",
    "              [priority_data, department_data])\n",
    "\n",
    "priority_preds, department_preds = model.predict(\n",
    "    {'title':title_data, 'text_body': text_body_data, \"tags\": tags_data})"
   ]
  },
  {
   "cell_type": "code",
   "execution_count": 60,
   "id": "9a7ae9fe",
   "metadata": {},
   "outputs": [],
   "source": [
    "class Classifier(keras.Model):\n",
    "    def __init__(self, num_classes=2):\n",
    "        super().__init__()\n",
    "        if num_classes ==2:\n",
    "            num_units = 1\n",
    "            activation = 'sigmoid'\n",
    "        else:\n",
    "            num_units = num_classes\n",
    "            activation = 'softmax'\n",
    "        self.dense = layers.Dense(num_units, activation=activation)\n",
    "    def call(self, inputs):\n",
    "        return self.dense(inputs)\n",
    "\n",
    "inputs = keras.Input(shape=(3,))\n",
    "features = layers.Dense(64, activation='relu')(inputs)\n",
    "outputs = Classifier(num_classes=10)(features)\n",
    "model = keras.Model(inputs = inputs, outputs = outputs)"
   ]
  },
  {
   "cell_type": "code",
   "execution_count": 65,
   "id": "420d4792",
   "metadata": {},
   "outputs": [],
   "source": [
    "inputs = keras.Input(shape=(64,))\n",
    "outputs = layers.Dense(1, activation = 'sigmoid')(inputs)\n",
    "binary_classifier = keras.Model(inputs = inputs, outputs = outputs)\n",
    "\n",
    "class MyModel(keras.Model):\n",
    "    def __init__(self, num_classes = 2):\n",
    "        super().__init__()\n",
    "        self.dense = layers.Dense(64, activation = 'relu')\n",
    "        self.classifier = binary_classifier\n",
    "    def call(self, inputs):\n",
    "        features = self.dense(inputs)\n",
    "        return self.classifier(features)"
   ]
  },
  {
   "cell_type": "code",
   "execution_count": 66,
   "id": "3ddfeb81",
   "metadata": {},
   "outputs": [],
   "source": [
    "MyModel = MyModel()"
   ]
  },
  {
   "cell_type": "code",
   "execution_count": 70,
   "id": "a1a21964",
   "metadata": {},
   "outputs": [
    {
     "ename": "ValueError",
     "evalue": "This model has not yet been built. Build the model first by calling `build()` or calling `fit()` with some data, or specify an `input_shape` argument in the first layer(s) for automatic build.",
     "output_type": "error",
     "traceback": [
      "\u001b[0;31m---------------------------------------------------------------------------\u001b[0m",
      "\u001b[0;31mValueError\u001b[0m                                Traceback (most recent call last)",
      "\u001b[0;32m/tmp/ipykernel_31/3561621665.py\u001b[0m in \u001b[0;36m<module>\u001b[0;34m\u001b[0m\n\u001b[0;32m----> 1\u001b[0;31m \u001b[0mMyModel\u001b[0m\u001b[0;34m.\u001b[0m\u001b[0msummary\u001b[0m\u001b[0;34m(\u001b[0m\u001b[0;34m)\u001b[0m\u001b[0;34m\u001b[0m\u001b[0;34m\u001b[0m\u001b[0m\n\u001b[0m",
      "\u001b[0;32m/opt/conda/lib/python3.9/site-packages/keras/engine/training.py\u001b[0m in \u001b[0;36msummary\u001b[0;34m(self, line_length, positions, print_fn)\u001b[0m\n\u001b[1;32m   2519\u001b[0m     \"\"\"\n\u001b[1;32m   2520\u001b[0m     \u001b[0;32mif\u001b[0m \u001b[0;32mnot\u001b[0m \u001b[0mself\u001b[0m\u001b[0;34m.\u001b[0m\u001b[0mbuilt\u001b[0m\u001b[0;34m:\u001b[0m\u001b[0;34m\u001b[0m\u001b[0;34m\u001b[0m\u001b[0m\n\u001b[0;32m-> 2521\u001b[0;31m       raise ValueError('This model has not yet been built. '\n\u001b[0m\u001b[1;32m   2522\u001b[0m                        \u001b[0;34m'Build the model first by calling `build()` or calling '\u001b[0m\u001b[0;34m\u001b[0m\u001b[0;34m\u001b[0m\u001b[0m\n\u001b[1;32m   2523\u001b[0m                        \u001b[0;34m'`fit()` with some data, or specify '\u001b[0m\u001b[0;34m\u001b[0m\u001b[0;34m\u001b[0m\u001b[0m\n",
      "\u001b[0;31mValueError\u001b[0m: This model has not yet been built. Build the model first by calling `build()` or calling `fit()` with some data, or specify an `input_shape` argument in the first layer(s) for automatic build."
     ]
    }
   ],
   "source": [
    "MyModel.summary()"
   ]
  },
  {
   "cell_type": "code",
   "execution_count": 71,
   "id": "3dbd1171",
   "metadata": {},
   "outputs": [
    {
     "name": "stdout",
     "output_type": "stream",
     "text": [
      "Downloading data from https://storage.googleapis.com/tensorflow/tf-keras-datasets/mnist.npz\n",
      "11493376/11490434 [==============================] - 0s 0us/step\n",
      "11501568/11490434 [==============================] - 0s 0us/step\n"
     ]
    }
   ],
   "source": [
    "from tensorflow.keras.datasets import mnist\n",
    "\n",
    "def get_mnist_model():\n",
    "    inputs = keras.Input(shape=(28*28))\n",
    "    features = layers.Dense(512, activation = 'relu')(inputs)\n",
    "    features = layers.Dropout(0.5)(features)\n",
    "    outputs = layers.Dense(10, activation = 'softmax')(features)\n",
    "    model = keras.Model(inputs, outputs)\n",
    "    return model\n",
    "\n",
    "(images, labels), (test_images, test_labels) = mnist.load_data()\n",
    "images = images.reshape((60000,28*28)).astype('float32') / 255\n",
    "test_images = test_images.reshape((10000,28*28)).astype('float32') / 255\n",
    "\n",
    "train_images, val_images = images[10000:], images[:10000]\n",
    "train_labels, val_labels = labels[10000:], labels[:10000]\n",
    "\n",
    "model = get_mnist_model()\n",
    "\n",
    "model.compile(optimizer = 'rmsprop',\n",
    "             loss = 'sparse_categorical_crossentropy',\n",
    "             metrics = ['accuracy'])\n",
    "\n",
    "model.fit(train_images, train_labels,\n",
    "          epochs=3,\n",
    "          validation_data = (val_images, val_labels))\n",
    "\n",
    "test_metrics = model.evaluate(test_images, test_labels)\n",
    "\n",
    "predictions = model.predict(test_images)"
   ]
  },
  {
   "cell_type": "code",
   "execution_count": 72,
   "id": "44dce267",
   "metadata": {},
   "outputs": [],
   "source": [
    "## 사용자 정의 지표 만들기"
   ]
  },
  {
   "cell_type": "code",
   "execution_count": 76,
   "id": "456a4f81",
   "metadata": {},
   "outputs": [],
   "source": [
    "import tensorflow as tf\n",
    "\n",
    "class RootMeanSquaredError(keras.metrics.Metric):\n",
    "    def __init__(self, name='rmse', **kwargs):\n",
    "        # keras.metrics.Metric 이거를 상속\n",
    "        super().__init__(name=name, **kwargs)\n",
    "        \n",
    "        # 기존 metric에 weight 를 추가\n",
    "        \n",
    "        # mse_sum이라는 함수를 추가\n",
    "        self.mse_sum = self.add_weight(name='mse_sum', initializer='zero')\n",
    "        \n",
    "        # total_sampels 라는 함수를 추가\n",
    "        self.total_samples = self.add_weight(\n",
    "            name='total_samples', initializer='zeros',dtype = 'int32')\n",
    "    \n",
    "    def update_state(self, y_true, y_pred, sample_weight=None):\n",
    "        y_true = tf.one_hot(y_true, depth=tf.shape(y_pred)[1])\n",
    "        mse = tf.reduce_sum(tf.square(y_true - y_pred))\n",
    "        self.mse_sum.assign_add(mse)\n",
    "        num_samples = tf.shape(y_pred)[0]\n",
    "        self.total_samples.assign_add(num_samples)\n",
    "        \n",
    "    def result(self):\n",
    "        return tf.sqrt(self.mse_sum / tf.cast(self.total_samples, tf.float32))\n",
    "    \n",
    "    def reset_state(self):\n",
    "        self.mse_sum.assign(0.)\n",
    "        self.total_samples.assign(0)\n",
    "        "
   ]
  },
  {
   "cell_type": "code",
   "execution_count": 77,
   "id": "80a76f3f",
   "metadata": {},
   "outputs": [
    {
     "name": "stdout",
     "output_type": "stream",
     "text": [
      "Epoch 1/3\n",
      "1563/1563 [==============================] - 10s 6ms/step - loss: 0.2936 - accuracy: 0.9124 - rmse: 7.1856 - val_loss: 0.1478 - val_accuracy: 0.9581 - val_rmse: 7.3604\n",
      "Epoch 2/3\n",
      "1563/1563 [==============================] - 9s 6ms/step - loss: 0.1657 - accuracy: 0.9541 - rmse: 7.3569 - val_loss: 0.1236 - val_accuracy: 0.9668 - val_rmse: 7.4087\n",
      "Epoch 3/3\n",
      "1563/1563 [==============================] - 9s 6ms/step - loss: 0.1362 - accuracy: 0.9624 - rmse: 7.3892 - val_loss: 0.1138 - val_accuracy: 0.9707 - val_rmse: 7.4222\n",
      "313/313 [==============================] - 1s 2ms/step - loss: 0.1074 - accuracy: 0.9727 - rmse: 7.4345\n"
     ]
    }
   ],
   "source": [
    "model = get_mnist_model()\n",
    "\n",
    "model.compile(optimizer = 'rmsprop',\n",
    "             loss = 'sparse_categorical_crossentropy',\n",
    "             metrics = ['accuracy', RootMeanSquaredError()])\n",
    "\n",
    "model.fit(train_images, train_labels,\n",
    "         epochs = 3,\n",
    "         validation_data = (val_images, val_labels))\n",
    "\n",
    "test_metrics = model.evaluate(test_images, test_labels)"
   ]
  },
  {
   "cell_type": "code",
   "execution_count": 79,
   "id": "39bfe637",
   "metadata": {},
   "outputs": [
    {
     "name": "stdout",
     "output_type": "stream",
     "text": [
      "Epoch 1/10\n",
      "1563/1563 [==============================] - 9s 6ms/step - loss: 0.2983 - accuracy: 0.9116 - val_loss: 0.1484 - val_accuracy: 0.9573\n",
      "Epoch 2/10\n",
      "1563/1563 [==============================] - 8s 5ms/step - loss: 0.1681 - accuracy: 0.9523 - val_loss: 0.1176 - val_accuracy: 0.9691\n",
      "Epoch 3/10\n",
      "1563/1563 [==============================] - 9s 6ms/step - loss: 0.1372 - accuracy: 0.9617 - val_loss: 0.1172 - val_accuracy: 0.9697\n",
      "Epoch 4/10\n",
      "1563/1563 [==============================] - 9s 6ms/step - loss: 0.1276 - accuracy: 0.9667 - val_loss: 0.1079 - val_accuracy: 0.9747\n",
      "Epoch 5/10\n",
      "1563/1563 [==============================] - 8s 5ms/step - loss: 0.1149 - accuracy: 0.9702 - val_loss: 0.1041 - val_accuracy: 0.9771\n",
      "Epoch 6/10\n",
      "1563/1563 [==============================] - 8s 5ms/step - loss: 0.1105 - accuracy: 0.9728 - val_loss: 0.1070 - val_accuracy: 0.9755\n",
      "Epoch 7/10\n",
      "1563/1563 [==============================] - 9s 6ms/step - loss: 0.1041 - accuracy: 0.9752 - val_loss: 0.1141 - val_accuracy: 0.9769\n"
     ]
    },
    {
     "data": {
      "text/plain": [
       "<keras.callbacks.History at 0x7c7a643a5d30>"
      ]
     },
     "execution_count": 79,
     "metadata": {},
     "output_type": "execute_result"
    }
   ],
   "source": [
    "callbacks_list = [\n",
    "    keras.callbacks.EarlyStopping(\n",
    "        monitor = 'val_accuracy',\n",
    "        patience = 2\n",
    "    ),\n",
    "    keras.callbacks.ModelCheckpoint(\n",
    "        filepath='checkpoint_path.h5',\n",
    "        monitor='val_loss',\n",
    "        save_best_only=True\n",
    "    )\n",
    "]\n",
    "\n",
    "model = get_mnist_model()\n",
    "model.compile(optimizer = 'rmsprop',\n",
    "             loss = 'sparse_categorical_crossentropy',\n",
    "             metrics = ['accuracy'])\n",
    "\n",
    "model.fit(train_images, train_labels,\n",
    "         epochs = 10,\n",
    "         callbacks = callbacks_list,\n",
    "         validation_data = (val_images, val_labels))"
   ]
  },
  {
   "cell_type": "code",
   "execution_count": 85,
   "id": "9ed22879",
   "metadata": {},
   "outputs": [
    {
     "data": {
      "text/plain": [
       "[<tf.Variable 'dense_29/kernel:0' shape=(784, 512) dtype=float32, numpy=\n",
       " array([[ 0.04821116,  0.05166771, -0.01843371, ...,  0.06368734,\n",
       "         -0.01871908, -0.0114801 ],\n",
       "        [-0.04437327,  0.04492354,  0.01081058, ...,  0.04495358,\n",
       "          0.06114893, -0.03410215],\n",
       "        [ 0.04945493, -0.03451645,  0.01762015, ...,  0.06150921,\n",
       "          0.03691865, -0.00785819],\n",
       "        ...,\n",
       "        [ 0.01444   , -0.04751959,  0.03711358, ..., -0.03780796,\n",
       "         -0.0259922 , -0.06595489],\n",
       "        [ 0.01041049, -0.05050819,  0.04670251, ...,  0.0276284 ,\n",
       "          0.04645989, -0.01661168],\n",
       "        [-0.0104805 , -0.04785427,  0.02571625, ..., -0.00368015,\n",
       "         -0.02381378, -0.04248112]], dtype=float32)>,\n",
       " <tf.Variable 'dense_29/bias:0' shape=(512,) dtype=float32, numpy=\n",
       " array([-0.01289838, -0.04214972, -0.02449162, -0.02149598, -0.02478606,\n",
       "        -0.06047064, -0.04325246, -0.17728202, -0.02632915, -0.07206406,\n",
       "        -0.11044975, -0.07556492, -0.17150407, -0.1291509 , -0.08672331,\n",
       "        -0.16616513, -0.11424143, -0.10073753, -0.14879364, -0.07866863,\n",
       "        -0.20667905, -0.01873877, -0.10402521, -0.09395696, -0.21155587,\n",
       "        -0.03017433, -0.10055027, -0.12424124, -0.03964188, -0.0857333 ,\n",
       "        -0.15218562, -0.13204582, -0.05137013, -0.01245972, -0.02185739,\n",
       "        -0.05677846, -0.0271619 , -0.09088509, -0.12836461, -0.13816077,\n",
       "        -0.09701828, -0.08242931, -0.09087431, -0.04472538, -0.20211844,\n",
       "        -0.06554341, -0.10588941, -0.15704305, -0.00611018, -0.1376898 ,\n",
       "        -0.09141741, -0.0974052 , -0.09560364, -0.17562345, -0.04594385,\n",
       "        -0.11439836, -0.0647826 , -0.09006686, -0.05408572, -0.09396858,\n",
       "        -0.03488749, -0.01747574, -0.08003245, -0.04500344, -0.1039044 ,\n",
       "        -0.03460165, -0.16310766, -0.1788016 , -0.13913582, -0.15014948,\n",
       "        -0.11679962, -0.01386135, -0.01856289, -0.0593419 , -0.15901221,\n",
       "        -0.05554829, -0.14138715, -0.09631553, -0.10058237, -0.01895132,\n",
       "        -0.12697937, -0.05850289, -0.08277943, -0.07750218,  0.01226672,\n",
       "        -0.02631609, -0.02967941, -0.1557596 ,  0.04577795, -0.03819654,\n",
       "        -0.21759461, -0.13228524, -0.03007227, -0.13012053, -0.0742491 ,\n",
       "        -0.08176604, -0.07838385, -0.12610374, -0.15919259, -0.11984852,\n",
       "        -0.02618511, -0.03205808, -0.07541613, -0.04421681, -0.08794328,\n",
       "        -0.18775971, -0.01700081, -0.049619  , -0.11432444, -0.13794866,\n",
       "        -0.02867279, -0.11410811,  0.05366135,  0.04258196, -0.12419171,\n",
       "        -0.00617963, -0.15094206, -0.06147154,  0.00989081, -0.09932751,\n",
       "        -0.18042201, -0.0393376 , -0.07176141, -0.09528787, -0.15896657,\n",
       "         0.01660153, -0.05134094,  0.03192876, -0.0764469 , -0.04665311,\n",
       "        -0.05630184, -0.04458733, -0.01790315, -0.15852736, -0.06334406,\n",
       "        -0.07190489, -0.06344812,  0.04251842, -0.08849759,  0.02356337,\n",
       "        -0.13389316, -0.11116056, -0.02427189, -0.1490028 , -0.03930466,\n",
       "        -0.20755501, -0.06525515, -0.14818116, -0.09632861,  0.00520004,\n",
       "         0.02022998, -0.05717136, -0.07625841, -0.08394938, -0.07696121,\n",
       "        -0.10202795, -0.02995584, -0.06731285, -0.3115879 , -0.16887954,\n",
       "        -0.20812385, -0.18181098, -0.19716126, -0.15400746, -0.07326394,\n",
       "        -0.107894  , -0.06076208, -0.0422125 , -0.18251304, -0.12302909,\n",
       "        -0.16062398, -0.18937518, -0.06370097, -0.13028446, -0.19916646,\n",
       "        -0.00892015, -0.0816322 , -0.16600485, -0.13820705, -0.0352262 ,\n",
       "         0.037907  , -0.14082454, -0.1141392 , -0.10145368, -0.02728429,\n",
       "        -0.05838398, -0.06305832, -0.03547951, -0.08830819, -0.07454188,\n",
       "        -0.11259912, -0.08853914, -0.12931567, -0.02252934, -0.10201416,\n",
       "        -0.11543729, -0.10061093,  0.00441527, -0.06150966, -0.17168729,\n",
       "        -0.16205756, -0.13195336, -0.22464052, -0.03510835, -0.02165731,\n",
       "        -0.09679983, -0.04748066, -0.08888224, -0.12912592, -0.06608982,\n",
       "        -0.16815576, -0.12049497, -0.04808209, -0.15157695, -0.13173679,\n",
       "        -0.16002858, -0.18041164, -0.09432279, -0.10536305, -0.02227722,\n",
       "        -0.15373902, -0.16347688, -0.08342211, -0.01585968, -0.06120284,\n",
       "        -0.21111813, -0.1388125 , -0.09756251,  0.00955858, -0.02213709,\n",
       "        -0.08873986,  0.0250396 , -0.08546893, -0.10870789, -0.03390331,\n",
       "        -0.15464886, -0.10341113, -0.06178834, -0.04409369, -0.1016041 ,\n",
       "        -0.08631533, -0.13935634, -0.12687206, -0.0714613 , -0.04496376,\n",
       "        -0.04381106, -0.03220506, -0.1305614 , -0.11824426, -0.07752971,\n",
       "        -0.11473569, -0.12272828, -0.10850473, -0.14729749, -0.17434557,\n",
       "        -0.11083349, -0.11626011, -0.05794723, -0.16744119, -0.03659475,\n",
       "        -0.12840745, -0.11958462, -0.08807969, -0.18151917, -0.18421419,\n",
       "         0.02288376, -0.12233995, -0.12839742, -0.12429964, -0.12932971,\n",
       "        -0.01414096, -0.1445109 , -0.05486171, -0.0889404 , -0.07915801,\n",
       "        -0.06470216, -0.05675871, -0.09435179, -0.04701653, -0.16990243,\n",
       "        -0.04669631, -0.14231673, -0.15276374, -0.02185588, -0.0838451 ,\n",
       "         0.02512945, -0.04676928, -0.17013967, -0.07592784, -0.1092036 ,\n",
       "        -0.05796768, -0.02207317,  0.01671217, -0.0968551 , -0.0654091 ,\n",
       "        -0.01824137, -0.05080909, -0.10204635,  0.00371625, -0.13288295,\n",
       "        -0.15842925, -0.14446111, -0.13130124,  0.01246303, -0.17398617,\n",
       "        -0.08840735, -0.02168069, -0.11653208, -0.09113742, -0.05302297,\n",
       "        -0.10320291, -0.14975895, -0.02681611, -0.1322759 , -0.12086052,\n",
       "        -0.18695916, -0.13351901, -0.04691738, -0.10898142, -0.14657304,\n",
       "        -0.08816823, -0.07125623, -0.01683192,  0.00660976, -0.0765038 ,\n",
       "        -0.10392183,  0.0079221 , -0.0956106 , -0.0376127 , -0.07340889,\n",
       "        -0.10159788, -0.11174358, -0.13830638, -0.05858646, -0.13740534,\n",
       "         0.02597804, -0.10530211, -0.16445656, -0.0439463 , -0.0992983 ,\n",
       "        -0.0587378 , -0.01503176, -0.02237029, -0.11923041, -0.11301299,\n",
       "        -0.12152416, -0.12300289, -0.01795382, -0.04231818, -0.08396067,\n",
       "        -0.0387538 , -0.09216779, -0.09467734, -0.17929773, -0.13068172,\n",
       "        -0.09019206, -0.01768567, -0.01691308, -0.04944794, -0.09884211,\n",
       "        -0.13040966, -0.02663683, -0.08154602, -0.04747558, -0.15312748,\n",
       "         0.0035965 , -0.15082182, -0.1394055 , -0.13610923, -0.0171553 ,\n",
       "        -0.1395687 , -0.1339084 , -0.10822638, -0.22331446, -0.10607098,\n",
       "        -0.08652073, -0.00490154,  0.06157808, -0.06258699, -0.08903418,\n",
       "         0.00696019, -0.09216083, -0.03373975,  0.01135555, -0.19220328,\n",
       "        -0.08979128,  0.00493531,  0.02629919, -0.02453418, -0.06099541,\n",
       "         0.00490465,  0.05330841, -0.03095779, -0.13176708, -0.07185519,\n",
       "        -0.0684586 , -0.15733631, -0.11464974, -0.01619816, -0.046963  ,\n",
       "        -0.06542325, -0.1800236 , -0.09220433, -0.15506993, -0.05032464,\n",
       "        -0.0607131 , -0.13209277, -0.13460429, -0.17217055, -0.14498843,\n",
       "        -0.11660111, -0.17588581, -0.06343146, -0.18462738,  0.01711685,\n",
       "        -0.07072788, -0.03145183, -0.11017189, -0.13617268, -0.1689535 ,\n",
       "        -0.1948654 , -0.08920652, -0.10388685,  0.05672112, -0.07129054,\n",
       "         0.02537243, -0.14982392, -0.11076938, -0.13006502, -0.02981039,\n",
       "        -0.15429415, -0.17058076, -0.0297726 , -0.07937062, -0.14587536,\n",
       "        -0.01914721, -0.0962534 ,  0.06167673, -0.08703991, -0.16856672,\n",
       "        -0.03186577, -0.02002377, -0.17171803, -0.12469354, -0.035113  ,\n",
       "        -0.15256104, -0.14054844, -0.13874264, -0.07675407, -0.00521825,\n",
       "        -0.11963527, -0.10502565, -0.05048459, -0.13118176, -0.0182962 ,\n",
       "        -0.10192572, -0.06611639, -0.0235401 , -0.04293602, -0.06360131,\n",
       "        -0.10718723, -0.13927643, -0.01624272,  0.00438834, -0.115504  ,\n",
       "        -0.12741351, -0.21014537, -0.10014839, -0.06256831, -0.00063508,\n",
       "        -0.1355026 , -0.08653931,  0.03555027, -0.12166545, -0.00804798,\n",
       "         0.02560347, -0.05101244, -0.07783256, -0.0600129 , -0.17658821,\n",
       "        -0.12563045, -0.07110292,  0.05391359, -0.10912713, -0.07233105,\n",
       "        -0.13565432, -0.12836467, -0.11044745, -0.10206275, -0.07297783,\n",
       "        -0.11471768, -0.01362316, -0.1454953 , -0.19140205, -0.19486365,\n",
       "        -0.03683586, -0.07096226, -0.17861369, -0.04510952, -0.13946332,\n",
       "         0.00068448,  0.0196238 , -0.08962119, -0.10725843, -0.15490766,\n",
       "         0.00653144, -0.15213527, -0.06901275, -0.06673656, -0.11892386,\n",
       "        -0.19759104, -0.07762049], dtype=float32)>,\n",
       " <tf.Variable 'dense_30/kernel:0' shape=(512, 10) dtype=float32, numpy=\n",
       " array([[-0.53925925, -0.7151557 , -0.23805021, ..., -0.10412814,\n",
       "         -0.14564376,  0.0054015 ],\n",
       "        [-0.3226363 , -0.14618827, -0.7262962 , ..., -0.30077857,\n",
       "         -0.09791198, -0.05545858],\n",
       "        [-0.16406797, -0.44384575, -0.421366  , ..., -0.3469765 ,\n",
       "         -0.36248016,  0.03526034],\n",
       "        ...,\n",
       "        [-0.74004126,  0.07845977, -0.51785374, ..., -0.02765429,\n",
       "         -0.4572447 , -0.38868198],\n",
       "        [-0.01059972, -0.07628888, -0.3202789 , ..., -0.36210585,\n",
       "         -0.07617772, -0.52152056],\n",
       "        [-0.66041213,  0.01930248, -0.05323927, ...,  0.02646331,\n",
       "         -0.37579215, -0.78788465]], dtype=float32)>,\n",
       " <tf.Variable 'dense_30/bias:0' shape=(10,) dtype=float32, numpy=\n",
       " array([-0.11441774, -0.155892  , -0.10381943,  0.00880011, -0.07677525,\n",
       "        -0.00126403, -0.15323079, -0.0529431 ,  0.06275574, -0.01180426],\n",
       "       dtype=float32)>]"
      ]
     },
     "execution_count": 85,
     "metadata": {},
     "output_type": "execute_result"
    }
   ],
   "source": [
    "model = keras.models.load_model(\"checkpoint_path.h5\")\n",
    "model.weights"
   ]
  },
  {
   "cell_type": "code",
   "execution_count": 90,
   "id": "85eb566e",
   "metadata": {},
   "outputs": [],
   "source": [
    "from matplotlib import pyplot as plt\n",
    "\n",
    "class LossHistory(keras.callbacks.Callback):\n",
    "    def on_train_begin(self, logs):\n",
    "        self.per_batch_losses = []\n",
    "    def on_batch_end(self, batch, logs):\n",
    "        self.per_batch_losses.append(logs.get('loss'))\n",
    "    def on_epochs_end(self, epoch, logs):\n",
    "        plt.clf()\n",
    "        plt.plot(range(len(self.per_batch_losses)), self.per_batch_losses,\n",
    "                label=\"Training loss for each batch\")\n",
    "        plt.xlabel(f\"Batch (epoch {epoch})\")\n",
    "        plt.ylabel(\"Loss\")\n",
    "        plt.legend()\n",
    "        plt.savefig(f\"plot_at_epoch_{epoch}\")\n",
    "        self.per_batch_losses = []\n",
    "                   \n",
    "    "
   ]
  },
  {
   "cell_type": "code",
   "execution_count": 91,
   "id": "6359df55",
   "metadata": {},
   "outputs": [
    {
     "name": "stdout",
     "output_type": "stream",
     "text": [
      "Epoch 1/10\n",
      "1563/1563 [==============================] - 9s 6ms/step - loss: 0.2914 - accuracy: 0.9140 - val_loss: 0.1642 - val_accuracy: 0.9515\n",
      "Epoch 2/10\n",
      "1563/1563 [==============================] - 9s 5ms/step - loss: 0.1641 - accuracy: 0.9535 - val_loss: 0.1205 - val_accuracy: 0.9694\n",
      "Epoch 3/10\n",
      "1563/1563 [==============================] - 9s 5ms/step - loss: 0.1372 - accuracy: 0.9633 - val_loss: 0.1424 - val_accuracy: 0.9646\n",
      "Epoch 4/10\n",
      "1563/1563 [==============================] - 9s 6ms/step - loss: 0.1253 - accuracy: 0.9676 - val_loss: 0.1092 - val_accuracy: 0.9727\n",
      "Epoch 5/10\n",
      "1563/1563 [==============================] - 9s 6ms/step - loss: 0.1146 - accuracy: 0.9706 - val_loss: 0.1191 - val_accuracy: 0.9737\n",
      "Epoch 6/10\n",
      "1563/1563 [==============================] - 9s 5ms/step - loss: 0.1092 - accuracy: 0.9736 - val_loss: 0.1077 - val_accuracy: 0.9754\n",
      "Epoch 7/10\n",
      "1563/1563 [==============================] - 9s 6ms/step - loss: 0.1028 - accuracy: 0.9752 - val_loss: 0.1068 - val_accuracy: 0.9771\n",
      "Epoch 8/10\n",
      "1563/1563 [==============================] - 9s 5ms/step - loss: 0.1014 - accuracy: 0.9763 - val_loss: 0.1146 - val_accuracy: 0.9766\n",
      "Epoch 9/10\n",
      "1563/1563 [==============================] - 9s 6ms/step - loss: 0.0954 - accuracy: 0.9776 - val_loss: 0.1160 - val_accuracy: 0.9775\n",
      "Epoch 10/10\n",
      "1563/1563 [==============================] - 9s 6ms/step - loss: 0.0948 - accuracy: 0.9798 - val_loss: 0.1184 - val_accuracy: 0.9782\n",
      "313/313 [==============================] - 1s 2ms/step - loss: 0.1045 - accuracy: 0.9799\n"
     ]
    }
   ],
   "source": [
    "model = get_mnist_model()\n",
    "\n",
    "model.compile(optimizer = 'rmsprop',\n",
    "             loss = 'sparse_categorical_crossentropy',\n",
    "             metrics = ['accuracy'])\n",
    "\n",
    "model.fit(train_images, train_labels,\n",
    "         epochs = 10,\n",
    "          callbacks=[LossHistory()],\n",
    "         validation_data = (val_images, val_labels))\n",
    "\n",
    "test_metrics = model.evaluate(test_images, test_labels)"
   ]
  },
  {
   "cell_type": "code",
   "execution_count": null,
   "id": "efe85a1b",
   "metadata": {},
   "outputs": [],
   "source": []
  }
 ],
 "metadata": {
  "kernelspec": {
   "display_name": "Python 3 (ipykernel)",
   "language": "python",
   "name": "python3"
  },
  "language_info": {
   "codemirror_mode": {
    "name": "ipython",
    "version": 3
   },
   "file_extension": ".py",
   "mimetype": "text/x-python",
   "name": "python",
   "nbconvert_exporter": "python",
   "pygments_lexer": "ipython3",
   "version": "3.9.7"
  }
 },
 "nbformat": 4,
 "nbformat_minor": 5
}
