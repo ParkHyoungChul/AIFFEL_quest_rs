{
 "cells": [
  {
   "cell_type": "code",
   "execution_count": null,
   "id": "1a78f497",
   "metadata": {},
   "outputs": [],
   "source": [
    "\n",
    "# 입력 크기 (batch_size, sequence_length,embedding_dim)\n",
    "def layer_normalization(batch_of_sequences):\n",
    "    mean = np.mean(batch_of_sequences, keepdims=True, axis=-1)\n",
    "    return batch_of_sequences - mean"
   ]
  }
 ],
 "metadata": {
  "kernelspec": {
   "display_name": "Python 3 (ipykernel)",
   "language": "python",
   "name": "python3"
  },
  "language_info": {
   "codemirror_mode": {
    "name": "ipython",
    "version": 3
   },
   "file_extension": ".py",
   "mimetype": "text/x-python",
   "name": "python",
   "nbconvert_exporter": "python",
   "pygments_lexer": "ipython3",
   "version": "3.9.7"
  }
 },
 "nbformat": 4,
 "nbformat_minor": 5
}
